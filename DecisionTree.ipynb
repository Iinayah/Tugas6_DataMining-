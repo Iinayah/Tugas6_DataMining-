{
  "nbformat": 4,
  "nbformat_minor": 0,
  "metadata": {
    "colab": {
      "provenance": [],
      "include_colab_link": true
    },
    "kernelspec": {
      "name": "python3",
      "display_name": "Python 3"
    },
    "language_info": {
      "name": "python"
    }
  },
  "cells": [
    {
      "cell_type": "markdown",
      "metadata": {
        "id": "view-in-github",
        "colab_type": "text"
      },
      "source": [
        "<a href=\"https://colab.research.google.com/github/Iinayah/Tugas6_DataMining-/blob/main/DecisionTree.ipynb\" target=\"_parent\"><img src=\"https://colab.research.google.com/assets/colab-badge.svg\" alt=\"Open In Colab\"/></a>"
      ]
    },
    {
      "cell_type": "code",
      "execution_count": 14,
      "metadata": {
        "id": "jfIfJ4_fPjup"
      },
      "outputs": [],
      "source": [
        "import numpy as np\n",
        "import pandas as pd\n",
        "from sklearn import tree\n",
        "from sklearn.tree import DecisionTreeClassifier\n",
        "import matplotlib.pyplot as plt"
      ]
    },
    {
      "cell_type": "code",
      "source": [
        "#Load Dataset\n",
        "data = pd.read_csv('datalulus.csv')"
      ],
      "metadata": {
        "id": "Wjcx0OmAQBhh"
      },
      "execution_count": 15,
      "outputs": []
    },
    {
      "cell_type": "code",
      "source": [
        "data.info()"
      ],
      "metadata": {
        "colab": {
          "base_uri": "https://localhost:8080/"
        },
        "id": "5yGJW8jsQFjS",
        "outputId": "9f093b87-ec9c-4f71-e419-b96a87554a28"
      },
      "execution_count": 16,
      "outputs": [
        {
          "output_type": "stream",
          "name": "stdout",
          "text": [
            "<class 'pandas.core.frame.DataFrame'>\n",
            "RangeIndex: 1687 entries, 0 to 1686\n",
            "Data columns (total 5 columns):\n",
            " #   Column  Non-Null Count  Dtype  \n",
            "---  ------  --------------  -----  \n",
            " 0   ip1     1687 non-null   float64\n",
            " 1   ip2     1687 non-null   float64\n",
            " 2   ip3     1687 non-null   float64\n",
            " 3   ip4     1687 non-null   float64\n",
            " 4   tepat   1687 non-null   object \n",
            "dtypes: float64(4), object(1)\n",
            "memory usage: 66.0+ KB\n"
          ]
        }
      ]
    },
    {
      "cell_type": "code",
      "source": [
        "x = data.iloc[:, :-1].values\n",
        "y = data.iloc[:, -1].values"
      ],
      "metadata": {
        "id": "oLaX4qVUQJa7"
      },
      "execution_count": 17,
      "outputs": []
    },
    {
      "cell_type": "code",
      "source": [
        "data[\"tepat\"] = pd.factorize(data.tepat)[0]"
      ],
      "metadata": {
        "id": "24JrEhBrQN_Y"
      },
      "execution_count": 18,
      "outputs": []
    },
    {
      "cell_type": "code",
      "source": [
        "data.head()"
      ],
      "metadata": {
        "colab": {
          "base_uri": "https://localhost:8080/",
          "height": 206
        },
        "id": "jKwavW5sQTwX",
        "outputId": "d9250d2f-ff1a-45b5-a465-7e0f71faaff1"
      },
      "execution_count": 19,
      "outputs": [
        {
          "output_type": "execute_result",
          "data": {
            "text/plain": [
              "    ip1   ip2   ip3   ip4  tepat\n",
              "0  2.30  1.97  1.80  1.56      0\n",
              "1  1.81  1.68  1.57  1.86      0\n",
              "2  3.07  3.00  2.75  3.21      0\n",
              "3  2.71  2.33  2.61  1.98      0\n",
              "4  3.17  3.02  3.28  2.96      0"
            ],
            "text/html": [
              "\n",
              "  <div id=\"df-95142442-c69f-426d-83e4-f100e6fd6f4d\">\n",
              "    <div class=\"colab-df-container\">\n",
              "      <div>\n",
              "<style scoped>\n",
              "    .dataframe tbody tr th:only-of-type {\n",
              "        vertical-align: middle;\n",
              "    }\n",
              "\n",
              "    .dataframe tbody tr th {\n",
              "        vertical-align: top;\n",
              "    }\n",
              "\n",
              "    .dataframe thead th {\n",
              "        text-align: right;\n",
              "    }\n",
              "</style>\n",
              "<table border=\"1\" class=\"dataframe\">\n",
              "  <thead>\n",
              "    <tr style=\"text-align: right;\">\n",
              "      <th></th>\n",
              "      <th>ip1</th>\n",
              "      <th>ip2</th>\n",
              "      <th>ip3</th>\n",
              "      <th>ip4</th>\n",
              "      <th>tepat</th>\n",
              "    </tr>\n",
              "  </thead>\n",
              "  <tbody>\n",
              "    <tr>\n",
              "      <th>0</th>\n",
              "      <td>2.30</td>\n",
              "      <td>1.97</td>\n",
              "      <td>1.80</td>\n",
              "      <td>1.56</td>\n",
              "      <td>0</td>\n",
              "    </tr>\n",
              "    <tr>\n",
              "      <th>1</th>\n",
              "      <td>1.81</td>\n",
              "      <td>1.68</td>\n",
              "      <td>1.57</td>\n",
              "      <td>1.86</td>\n",
              "      <td>0</td>\n",
              "    </tr>\n",
              "    <tr>\n",
              "      <th>2</th>\n",
              "      <td>3.07</td>\n",
              "      <td>3.00</td>\n",
              "      <td>2.75</td>\n",
              "      <td>3.21</td>\n",
              "      <td>0</td>\n",
              "    </tr>\n",
              "    <tr>\n",
              "      <th>3</th>\n",
              "      <td>2.71</td>\n",
              "      <td>2.33</td>\n",
              "      <td>2.61</td>\n",
              "      <td>1.98</td>\n",
              "      <td>0</td>\n",
              "    </tr>\n",
              "    <tr>\n",
              "      <th>4</th>\n",
              "      <td>3.17</td>\n",
              "      <td>3.02</td>\n",
              "      <td>3.28</td>\n",
              "      <td>2.96</td>\n",
              "      <td>0</td>\n",
              "    </tr>\n",
              "  </tbody>\n",
              "</table>\n",
              "</div>\n",
              "      <button class=\"colab-df-convert\" onclick=\"convertToInteractive('df-95142442-c69f-426d-83e4-f100e6fd6f4d')\"\n",
              "              title=\"Convert this dataframe to an interactive table.\"\n",
              "              style=\"display:none;\">\n",
              "        \n",
              "  <svg xmlns=\"http://www.w3.org/2000/svg\" height=\"24px\"viewBox=\"0 0 24 24\"\n",
              "       width=\"24px\">\n",
              "    <path d=\"M0 0h24v24H0V0z\" fill=\"none\"/>\n",
              "    <path d=\"M18.56 5.44l.94 2.06.94-2.06 2.06-.94-2.06-.94-.94-2.06-.94 2.06-2.06.94zm-11 1L8.5 8.5l.94-2.06 2.06-.94-2.06-.94L8.5 2.5l-.94 2.06-2.06.94zm10 10l.94 2.06.94-2.06 2.06-.94-2.06-.94-.94-2.06-.94 2.06-2.06.94z\"/><path d=\"M17.41 7.96l-1.37-1.37c-.4-.4-.92-.59-1.43-.59-.52 0-1.04.2-1.43.59L10.3 9.45l-7.72 7.72c-.78.78-.78 2.05 0 2.83L4 21.41c.39.39.9.59 1.41.59.51 0 1.02-.2 1.41-.59l7.78-7.78 2.81-2.81c.8-.78.8-2.07 0-2.86zM5.41 20L4 18.59l7.72-7.72 1.47 1.35L5.41 20z\"/>\n",
              "  </svg>\n",
              "      </button>\n",
              "      \n",
              "  <style>\n",
              "    .colab-df-container {\n",
              "      display:flex;\n",
              "      flex-wrap:wrap;\n",
              "      gap: 12px;\n",
              "    }\n",
              "\n",
              "    .colab-df-convert {\n",
              "      background-color: #E8F0FE;\n",
              "      border: none;\n",
              "      border-radius: 50%;\n",
              "      cursor: pointer;\n",
              "      display: none;\n",
              "      fill: #1967D2;\n",
              "      height: 32px;\n",
              "      padding: 0 0 0 0;\n",
              "      width: 32px;\n",
              "    }\n",
              "\n",
              "    .colab-df-convert:hover {\n",
              "      background-color: #E2EBFA;\n",
              "      box-shadow: 0px 1px 2px rgba(60, 64, 67, 0.3), 0px 1px 3px 1px rgba(60, 64, 67, 0.15);\n",
              "      fill: #174EA6;\n",
              "    }\n",
              "\n",
              "    [theme=dark] .colab-df-convert {\n",
              "      background-color: #3B4455;\n",
              "      fill: #D2E3FC;\n",
              "    }\n",
              "\n",
              "    [theme=dark] .colab-df-convert:hover {\n",
              "      background-color: #434B5C;\n",
              "      box-shadow: 0px 1px 3px 1px rgba(0, 0, 0, 0.15);\n",
              "      filter: drop-shadow(0px 1px 2px rgba(0, 0, 0, 0.3));\n",
              "      fill: #FFFFFF;\n",
              "    }\n",
              "  </style>\n",
              "\n",
              "      <script>\n",
              "        const buttonEl =\n",
              "          document.querySelector('#df-95142442-c69f-426d-83e4-f100e6fd6f4d button.colab-df-convert');\n",
              "        buttonEl.style.display =\n",
              "          google.colab.kernel.accessAllowed ? 'block' : 'none';\n",
              "\n",
              "        async function convertToInteractive(key) {\n",
              "          const element = document.querySelector('#df-95142442-c69f-426d-83e4-f100e6fd6f4d');\n",
              "          const dataTable =\n",
              "            await google.colab.kernel.invokeFunction('convertToInteractive',\n",
              "                                                     [key], {});\n",
              "          if (!dataTable) return;\n",
              "\n",
              "          const docLinkHtml = 'Like what you see? Visit the ' +\n",
              "            '<a target=\"_blank\" href=https://colab.research.google.com/notebooks/data_table.ipynb>data table notebook</a>'\n",
              "            + ' to learn more about interactive tables.';\n",
              "          element.innerHTML = '';\n",
              "          dataTable['output_type'] = 'display_data';\n",
              "          await google.colab.output.renderOutput(dataTable, element);\n",
              "          const docLink = document.createElement('div');\n",
              "          docLink.innerHTML = docLinkHtml;\n",
              "          element.appendChild(docLink);\n",
              "        }\n",
              "      </script>\n",
              "    </div>\n",
              "  </div>\n",
              "  "
            ]
          },
          "metadata": {},
          "execution_count": 19
        }
      ]
    },
    {
      "cell_type": "code",
      "source": [
        "#Mengubah dataFrame ke array Numpy\n",
        "data = data.to_numpy()"
      ],
      "metadata": {
        "id": "Uw2FEUHmQWDP"
      },
      "execution_count": 20,
      "outputs": []
    },
    {
      "cell_type": "code",
      "source": [
        "print(data)"
      ],
      "metadata": {
        "colab": {
          "base_uri": "https://localhost:8080/"
        },
        "id": "Rc7gcTnKQZzl",
        "outputId": "b661eb35-1c67-4657-8185-2304a4c0819e"
      },
      "execution_count": 21,
      "outputs": [
        {
          "output_type": "stream",
          "name": "stdout",
          "text": [
            "[[2.3  1.97 1.8  1.56 0.  ]\n",
            " [1.81 1.68 1.57 1.86 0.  ]\n",
            " [3.07 3.   2.75 3.21 0.  ]\n",
            " ...\n",
            " [3.31 3.25 3.44 3.52 1.  ]\n",
            " [3.44 3.35 3.5  3.5  1.  ]\n",
            " [3.18 3.05 3.05 3.27 1.  ]]\n"
          ]
        }
      ]
    },
    {
      "cell_type": "code",
      "source": [
        "from sklearn.model_selection import train_test_split\n",
        "x_train, x_test, y_train, y_test = train_test_split(x, y, test_size = 0.25, random_state = 0)"
      ],
      "metadata": {
        "id": "S7dfz-MrQb2U"
      },
      "execution_count": 22,
      "outputs": []
    },
    {
      "cell_type": "code",
      "source": [
        "len(x_train)"
      ],
      "metadata": {
        "colab": {
          "base_uri": "https://localhost:8080/"
        },
        "id": "wmG0iBJESMnJ",
        "outputId": "0bf775e2-0748-40bd-d492-fb90bf4d26e6"
      },
      "execution_count": 23,
      "outputs": [
        {
          "output_type": "execute_result",
          "data": {
            "text/plain": [
              "1265"
            ]
          },
          "metadata": {},
          "execution_count": 23
        }
      ]
    },
    {
      "cell_type": "code",
      "source": [
        "len(x_test)"
      ],
      "metadata": {
        "colab": {
          "base_uri": "https://localhost:8080/"
        },
        "id": "GIR_JZ8WSNVB",
        "outputId": "36a4fe46-e4c4-46ef-fd36-c9436cbf4762"
      },
      "execution_count": 24,
      "outputs": [
        {
          "output_type": "execute_result",
          "data": {
            "text/plain": [
              "422"
            ]
          },
          "metadata": {},
          "execution_count": 24
        }
      ]
    },
    {
      "cell_type": "code",
      "source": [
        "#Membuat Objek Model Decision Tree\n",
        "decisiontree = DecisionTreeClassifier(random_state=0, max_depth=None, \n",
        "                                      min_samples_split=2, min_samples_leaf=1,\n",
        "                                      min_weight_fraction_leaf=0,\n",
        "                                      max_leaf_nodes=None, \n",
        "                                      min_impurity_decrease=0)"
      ],
      "metadata": {
        "id": "f8PTVpcUSZtr"
      },
      "execution_count": 25,
      "outputs": []
    },
    {
      "cell_type": "code",
      "source": [
        "#Mentraining Model Decision Tree\n",
        "model = decisiontree.fit(x, y)"
      ],
      "metadata": {
        "id": "akNosoX2SbIi"
      },
      "execution_count": 26,
      "outputs": []
    },
    {
      "cell_type": "code",
      "source": [
        "test = model.predict(x)"
      ],
      "metadata": {
        "id": "v8Ve9l9mSd3E"
      },
      "execution_count": 27,
      "outputs": []
    },
    {
      "cell_type": "code",
      "source": [
        "test"
      ],
      "metadata": {
        "colab": {
          "base_uri": "https://localhost:8080/"
        },
        "id": "_-10kjM0SgvJ",
        "outputId": "066e7f7e-5fd2-40e2-97f7-dd509e2515b9"
      },
      "execution_count": 28,
      "outputs": [
        {
          "output_type": "execute_result",
          "data": {
            "text/plain": [
              "array(['Tidak', 'Tidak', 'Tidak', ..., 'Ya', 'Ya', 'Ya'], dtype=object)"
            ]
          },
          "metadata": {},
          "execution_count": 28
        }
      ]
    },
    {
      "cell_type": "code",
      "source": [
        "#Mengambil sampel observasi dan membuat prediksi\n",
        "#Sampel berupa data dimensi kelopak\n",
        "#Fungsi predict() => memeriksa kelas yang dimilikinya\n",
        "#Fungsi predict_proba() => memeriksa probabilitas kelas dari prediksi tersebut\n",
        "observation = [[5, 4, 3, 2]]\n",
        "model.predict(observation)\n",
        "model.predict_proba(observation)\n",
        "\n",
        "print(observation)\n",
        "print(model.predict(observation))"
      ],
      "metadata": {
        "colab": {
          "base_uri": "https://localhost:8080/"
        },
        "id": "swkzblxTSj2z",
        "outputId": "c8d8ea9e-1d97-4cf0-a236-db5605b6eb15"
      },
      "execution_count": 29,
      "outputs": [
        {
          "output_type": "stream",
          "name": "stdout",
          "text": [
            "[[5, 4, 3, 2]]\n",
            "['Tidak']\n"
          ]
        }
      ]
    },
    {
      "cell_type": "code",
      "source": [
        "from sklearn.metrics import confusion_matrix\n",
        "cm = confusion_matrix(y, test)\n",
        "print(cm)"
      ],
      "metadata": {
        "id": "4JXuj-CKStws",
        "outputId": "8ceaa4b0-0121-4828-e5a6-8cf029085e37",
        "colab": {
          "base_uri": "https://localhost:8080/"
        }
      },
      "execution_count": 30,
      "outputs": [
        {
          "output_type": "stream",
          "name": "stdout",
          "text": [
            "[[ 135    0]\n",
            " [   0 1552]]\n"
          ]
        }
      ]
    },
    {
      "cell_type": "code",
      "source": [
        "import seaborn as sns\n",
        "import matplotlib.pyplot as plt\n",
        "f, ax = plt.subplots(figsize=(8,5))\n",
        "sns.heatmap(confusion_matrix(y, test), annot=True, fmt=\".0f\", ax=ax)\n",
        "plt.xlabel(\"test\")\n",
        "plt.ylabel(\"y\")\n",
        "plt.show()"
      ],
      "metadata": {
        "colab": {
          "base_uri": "https://localhost:8080/",
          "height": 465
        },
        "id": "Ge1sY9mpWP8_",
        "outputId": "65c7f7d2-6c5d-4a3f-d942-4007ddf32bd4"
      },
      "execution_count": 31,
      "outputs": [
        {
          "output_type": "display_data",
          "data": {
            "text/plain": [
              "<Figure size 800x500 with 2 Axes>"
            ],
            "image/png": "[encoded data removed]"
          },
          "metadata": {}
        }
      ]
    },
    {
      "cell_type": "code",
      "source": [
        "from sklearn.metrics import classification_report\n",
        "print (classification_report(y, test))"
      ],
      "metadata": {
        "colab": {
          "base_uri": "https://localhost:8080/"
        },
        "id": "iuMpsAyfXKhT",
        "outputId": "85c3bd79-042d-4255-a658-c1d2ac051afb"
      },
      "execution_count": 32,
      "outputs": [
        {
          "output_type": "stream",
          "name": "stdout",
          "text": [
            "              precision    recall  f1-score   support\n",
            "\n",
            "       Tidak       1.00      1.00      1.00       135\n",
            "          Ya       1.00      1.00      1.00      1552\n",
            "\n",
            "    accuracy                           1.00      1687\n",
            "   macro avg       1.00      1.00      1.00      1687\n",
            "weighted avg       1.00      1.00      1.00      1687\n",
            "\n"
          ]
        }
      ]
    },
    {
      "cell_type": "code",
      "source": [
        "tree.plot_tree(decisiontree)\n",
        "plt.show()"
      ],
      "metadata": {
        "colab": {
          "base_uri": "https://localhost:8080/",
          "height": 406
        },
        "id": "_eS7VD10XRnz",
        "outputId": "45df0ada-7a2a-43c8-aa96-6c4adeaf9533"
      },
      "execution_count": 33,
      "outputs": [
        {
          "output_type": "display_data",
          "data": {
            "text/plain": [
              "<Figure size 640x480 with 1 Axes>"
            ],
            "image/png": "[encoded data removed]"
          },
          "metadata": {}
        }
      ]
    },
    {
      "cell_type": "code",
      "source": [
        "#Memecah Dataset ke Input dan Label\n",
        "inputTraining = x_train[:, 0:5]\n",
        "inputTesting = x_test[:, 0:5]\n",
        "labelTraining = y_train[ 5]\n",
        "labelTesting = y_test[ 5]"
      ],
      "metadata": {
        "id": "XZW3hwaHX0ib"
      },
      "execution_count": 63,
      "outputs": []
    },
    {
      "cell_type": "code",
      "source": [
        "#Mendefinisikan Decision Tree Classifier\n",
        "model = tree.DecisionTreeClassifier()"
      ],
      "metadata": {
        "id": "x2loBE0dbgEZ"
      },
      "execution_count": 64,
      "outputs": []
    },
    {
      "cell_type": "code",
      "source": [
        "#Mentraining Model\n",
        "model = model.fit(x_train, y_train)"
      ],
      "metadata": {
        "id": "yj48wAEMbkr4"
      },
      "execution_count": 65,
      "outputs": []
    },
    {
      "cell_type": "code",
      "source": [
        "#Memprediksi Input Data Testing\n",
        "hasilPrediksi = model.predict(x_test)\n",
        "print(\"Label Sebenarnya : \", y_test)\n",
        "print(\"Hasil Prediksi : \", hasilPrediksi)"
      ],
      "metadata": {
        "colab": {
          "base_uri": "https://localhost:8080/"
        },
        "id": "wnPopzzpcBO3",
        "outputId": "e3cfc6dd-24ea-4c36-c94b-3402ce1fdfcc"
      },
      "execution_count": 66,
      "outputs": [
        {
          "output_type": "stream",
          "name": "stdout",
          "text": [
            "Label Sebenarnya :  ['Ya' 'Ya' 'Ya' 'Ya' 'Ya' 'Tidak' 'Ya' 'Ya' 'Tidak' 'Ya' 'Ya' 'Ya' 'Ya'\n",
            " 'Ya' 'Ya' 'Ya' 'Ya' 'Ya' 'Ya' 'Ya' 'Ya' 'Ya' 'Ya' 'Ya' 'Ya' 'Ya' 'Ya'\n",
            " 'Ya' 'Ya' 'Ya' 'Ya' 'Ya' 'Ya' 'Ya' 'Ya' 'Tidak' 'Ya' 'Ya' 'Tidak' 'Ya'\n",
            " 'Ya' 'Ya' 'Ya' 'Ya' 'Ya' 'Ya' 'Ya' 'Ya' 'Ya' 'Ya' 'Ya' 'Ya' 'Ya' 'Ya'\n",
            " 'Ya' 'Ya' 'Tidak' 'Tidak' 'Ya' 'Ya' 'Ya' 'Ya' 'Ya' 'Ya' 'Ya' 'Ya' 'Ya'\n",
            " 'Ya' 'Tidak' 'Ya' 'Ya' 'Ya' 'Ya' 'Ya' 'Ya' 'Ya' 'Ya' 'Ya' 'Ya' 'Ya' 'Ya'\n",
            " 'Ya' 'Ya' 'Ya' 'Ya' 'Ya' 'Ya' 'Ya' 'Ya' 'Ya' 'Ya' 'Ya' 'Ya' 'Ya' 'Tidak'\n",
            " 'Ya' 'Tidak' 'Ya' 'Ya' 'Ya' 'Tidak' 'Ya' 'Ya' 'Tidak' 'Ya' 'Ya' 'Ya' 'Ya'\n",
            " 'Ya' 'Tidak' 'Ya' 'Ya' 'Ya' 'Ya' 'Ya' 'Ya' 'Ya' 'Ya' 'Ya' 'Tidak' 'Tidak'\n",
            " 'Ya' 'Tidak' 'Ya' 'Ya' 'Ya' 'Ya' 'Ya' 'Ya' 'Tidak' 'Ya' 'Ya' 'Ya' 'Ya'\n",
            " 'Ya' 'Ya' 'Ya' 'Ya' 'Ya' 'Tidak' 'Ya' 'Ya' 'Ya' 'Ya' 'Ya' 'Ya' 'Ya' 'Ya'\n",
            " 'Ya' 'Ya' 'Ya' 'Ya' 'Tidak' 'Ya' 'Ya' 'Ya' 'Ya' 'Ya' 'Tidak' 'Tidak' 'Ya'\n",
            " 'Ya' 'Ya' 'Ya' 'Ya' 'Ya' 'Ya' 'Ya' 'Ya' 'Ya' 'Ya' 'Ya' 'Tidak' 'Ya' 'Ya'\n",
            " 'Ya' 'Ya' 'Ya' 'Ya' 'Ya' 'Ya' 'Ya' 'Ya' 'Ya' 'Ya' 'Ya' 'Ya' 'Ya' 'Ya'\n",
            " 'Ya' 'Tidak' 'Ya' 'Ya' 'Ya' 'Ya' 'Ya' 'Ya' 'Ya' 'Tidak' 'Ya' 'Ya' 'Ya'\n",
            " 'Ya' 'Ya' 'Ya' 'Ya' 'Ya' 'Ya' 'Ya' 'Ya' 'Ya' 'Ya' 'Ya' 'Ya' 'Ya' 'Ya'\n",
            " 'Ya' 'Ya' 'Ya' 'Ya' 'Ya' 'Ya' 'Tidak' 'Ya' 'Ya' 'Ya' 'Tidak' 'Ya' 'Ya'\n",
            " 'Tidak' 'Tidak' 'Ya' 'Ya' 'Ya' 'Ya' 'Ya' 'Ya' 'Ya' 'Ya' 'Ya' 'Ya' 'Ya'\n",
            " 'Ya' 'Ya' 'Ya' 'Ya' 'Ya' 'Ya' 'Ya' 'Ya' 'Ya' 'Ya' 'Ya' 'Ya' 'Ya' 'Ya'\n",
            " 'Ya' 'Ya' 'Ya' 'Ya' 'Ya' 'Ya' 'Ya' 'Ya' 'Ya' 'Ya' 'Ya' 'Ya' 'Ya' 'Ya'\n",
            " 'Ya' 'Ya' 'Ya' 'Ya' 'Ya' 'Ya' 'Ya' 'Ya' 'Tidak' 'Ya' 'Ya' 'Ya' 'Ya' 'Ya'\n",
            " 'Ya' 'Ya' 'Tidak' 'Ya' 'Ya' 'Ya' 'Ya' 'Ya' 'Ya' 'Ya' 'Ya' 'Tidak' 'Ya'\n",
            " 'Ya' 'Ya' 'Ya' 'Ya' 'Ya' 'Ya' 'Ya' 'Ya' 'Ya' 'Ya' 'Ya' 'Ya' 'Ya' 'Ya'\n",
            " 'Ya' 'Ya' 'Ya' 'Ya' 'Ya' 'Ya' 'Tidak' 'Ya' 'Ya' 'Ya' 'Ya' 'Ya' 'Ya' 'Ya'\n",
            " 'Ya' 'Ya' 'Ya' 'Ya' 'Ya' 'Ya' 'Ya' 'Ya' 'Ya' 'Ya' 'Ya' 'Ya' 'Ya' 'Tidak'\n",
            " 'Ya' 'Ya' 'Ya' 'Ya' 'Ya' 'Ya' 'Ya' 'Ya' 'Ya' 'Ya' 'Ya' 'Ya' 'Ya' 'Ya'\n",
            " 'Ya' 'Ya' 'Ya' 'Ya' 'Ya' 'Ya' 'Ya' 'Ya' 'Ya' 'Ya' 'Ya' 'Tidak' 'Ya' 'Ya'\n",
            " 'Tidak' 'Ya' 'Ya' 'Tidak' 'Ya' 'Ya' 'Ya' 'Tidak' 'Ya' 'Ya' 'Ya' 'Ya' 'Ya'\n",
            " 'Tidak' 'Ya' 'Ya' 'Ya' 'Ya' 'Ya' 'Ya' 'Ya' 'Ya' 'Ya' 'Ya' 'Ya' 'Tidak'\n",
            " 'Ya' 'Ya' 'Ya' 'Ya' 'Ya' 'Ya' 'Ya' 'Ya' 'Ya' 'Tidak' 'Ya' 'Ya' 'Ya' 'Ya'\n",
            " 'Ya' 'Tidak' 'Ya' 'Ya' 'Ya' 'Ya' 'Ya' 'Ya' 'Ya' 'Ya' 'Ya' 'Ya' 'Tidak'\n",
            " 'Ya' 'Ya']\n",
            "Hasil Prediksi :  ['Ya' 'Ya' 'Ya' 'Tidak' 'Ya' 'Ya' 'Ya' 'Ya' 'Ya' 'Ya' 'Ya' 'Ya' 'Ya' 'Ya'\n",
            " 'Ya' 'Tidak' 'Ya' 'Ya' 'Ya' 'Ya' 'Ya' 'Ya' 'Ya' 'Ya' 'Ya' 'Ya' 'Ya' 'Ya'\n",
            " 'Ya' 'Ya' 'Ya' 'Ya' 'Ya' 'Ya' 'Ya' 'Ya' 'Ya' 'Ya' 'Ya' 'Ya' 'Ya' 'Ya'\n",
            " 'Ya' 'Ya' 'Ya' 'Ya' 'Ya' 'Ya' 'Ya' 'Ya' 'Ya' 'Ya' 'Tidak' 'Ya' 'Tidak'\n",
            " 'Ya' 'Ya' 'Ya' 'Ya' 'Ya' 'Ya' 'Ya' 'Ya' 'Ya' 'Ya' 'Ya' 'Ya' 'Ya' 'Ya'\n",
            " 'Ya' 'Ya' 'Ya' 'Ya' 'Ya' 'Ya' 'Ya' 'Ya' 'Tidak' 'Ya' 'Ya' 'Tidak' 'Ya'\n",
            " 'Ya' 'Ya' 'Ya' 'Ya' 'Ya' 'Ya' 'Ya' 'Tidak' 'Ya' 'Ya' 'Ya' 'Ya' 'Ya' 'Ya'\n",
            " 'Ya' 'Ya' 'Ya' 'Ya' 'Ya' 'Ya' 'Ya' 'Ya' 'Ya' 'Ya' 'Ya' 'Ya' 'Ya' 'Ya'\n",
            " 'Tidak' 'Ya' 'Ya' 'Ya' 'Ya' 'Ya' 'Ya' 'Ya' 'Ya' 'Ya' 'Ya' 'Ya' 'Ya' 'Ya'\n",
            " 'Ya' 'Ya' 'Ya' 'Ya' 'Ya' 'Ya' 'Ya' 'Ya' 'Ya' 'Tidak' 'Ya' 'Ya' 'Tidak'\n",
            " 'Ya' 'Ya' 'Ya' 'Ya' 'Ya' 'Ya' 'Tidak' 'Ya' 'Ya' 'Ya' 'Ya' 'Ya' 'Ya' 'Ya'\n",
            " 'Tidak' 'Ya' 'Ya' 'Ya' 'Ya' 'Tidak' 'Ya' 'Ya' 'Ya' 'Tidak' 'Ya' 'Ya' 'Ya'\n",
            " 'Tidak' 'Ya' 'Ya' 'Ya' 'Ya' 'Ya' 'Tidak' 'Tidak' 'Ya' 'Ya' 'Ya' 'Tidak'\n",
            " 'Ya' 'Ya' 'Ya' 'Ya' 'Ya' 'Ya' 'Ya' 'Ya' 'Ya' 'Ya' 'Ya' 'Ya' 'Ya' 'Ya'\n",
            " 'Ya' 'Ya' 'Tidak' 'Ya' 'Ya' 'Ya' 'Ya' 'Ya' 'Ya' 'Ya' 'Ya' 'Ya' 'Ya' 'Ya'\n",
            " 'Tidak' 'Ya' 'Ya' 'Ya' 'Ya' 'Ya' 'Ya' 'Ya' 'Ya' 'Ya' 'Ya' 'Ya' 'Ya' 'Ya'\n",
            " 'Ya' 'Ya' 'Ya' 'Tidak' 'Ya' 'Ya' 'Ya' 'Ya' 'Ya' 'Ya' 'Ya' 'Ya' 'Ya' 'Ya'\n",
            " 'Ya' 'Ya' 'Ya' 'Ya' 'Ya' 'Ya' 'Ya' 'Ya' 'Ya' 'Ya' 'Ya' 'Ya' 'Ya' 'Ya'\n",
            " 'Tidak' 'Ya' 'Ya' 'Ya' 'Ya' 'Ya' 'Ya' 'Ya' 'Ya' 'Tidak' 'Ya' 'Ya' 'Ya'\n",
            " 'Ya' 'Ya' 'Tidak' 'Ya' 'Ya' 'Ya' 'Ya' 'Ya' 'Ya' 'Ya' 'Tidak' 'Ya' 'Ya'\n",
            " 'Ya' 'Ya' 'Ya' 'Ya' 'Ya' 'Ya' 'Ya' 'Ya' 'Ya' 'Ya' 'Ya' 'Ya' 'Ya' 'Tidak'\n",
            " 'Ya' 'Ya' 'Ya' 'Ya' 'Ya' 'Ya' 'Ya' 'Ya' 'Ya' 'Ya' 'Tidak' 'Ya' 'Ya' 'Ya'\n",
            " 'Ya' 'Ya' 'Ya' 'Ya' 'Ya' 'Ya' 'Ya' 'Ya' 'Ya' 'Tidak' 'Ya' 'Tidak' 'Ya'\n",
            " 'Ya' 'Ya' 'Tidak' 'Tidak' 'Ya' 'Ya' 'Ya' 'Ya' 'Tidak' 'Ya' 'Tidak' 'Ya'\n",
            " 'Ya' 'Ya' 'Ya' 'Ya' 'Ya' 'Tidak' 'Ya' 'Ya' 'Ya' 'Ya' 'Ya' 'Ya' 'Ya' 'Ya'\n",
            " 'Ya' 'Ya' 'Ya' 'Ya' 'Ya' 'Ya' 'Ya' 'Ya' 'Ya' 'Tidak' 'Ya' 'Ya' 'Ya' 'Ya'\n",
            " 'Tidak' 'Tidak' 'Ya' 'Ya' 'Ya' 'Ya' 'Ya' 'Ya' 'Ya' 'Ya' 'Ya' 'Ya' 'Ya'\n",
            " 'Tidak' 'Tidak' 'Ya' 'Ya' 'Ya' 'Ya' 'Ya' 'Ya' 'Tidak' 'Ya' 'Ya' 'Ya' 'Ya'\n",
            " 'Tidak' 'Ya' 'Ya' 'Tidak' 'Ya' 'Ya' 'Ya' 'Ya' 'Ya' 'Ya' 'Ya' 'Tidak' 'Ya'\n",
            " 'Tidak' 'Ya' 'Ya' 'Ya' 'Ya' 'Ya' 'Ya' 'Ya' 'Ya' 'Ya' 'Ya' 'Ya' 'Ya'\n",
            " 'Tidak' 'Ya' 'Ya' 'Ya' 'Ya' 'Ya' 'Tidak' 'Ya' 'Ya' 'Ya' 'Ya' 'Ya' 'Ya'\n",
            " 'Ya' 'Tidak' 'Ya' 'Ya']\n"
          ]
        }
      ]
    },
    {
      "cell_type": "code",
      "source": [
        "#Menghitung Akurasi\n",
        "prediksiBenar = (hasilPrediksi == y_test).sum()\n",
        "prediksiSalah = (hasilPrediksi != y_test).sum()\n",
        "print(\"Prediksi Benar :\", prediksiBenar, \"data\")\n",
        "print(\"Prediksi Salah :\", prediksiSalah, \"data\")\n",
        "print(\"Akurasi :\", prediksiBenar/(prediksiBenar+prediksiSalah) * 100, \"%\")"
      ],
      "metadata": {
        "colab": {
          "base_uri": "https://localhost:8080/"
        },
        "id": "DGR-vom70-Kj",
        "outputId": "34c6215d-c72a-4b67-fcd6-45b4dd59c552"
      },
      "execution_count": 53,
      "outputs": [
        {
          "output_type": "stream",
          "name": "stdout",
          "text": [
            "Prediksi Benar : 339 data\n",
            "Prediksi Salah : 83 data\n",
            "Akurasi : 80.33175355450237 %\n"
          ]
        }
      ]
    }
  ]
}